{
 "cells": [
  {
   "cell_type": "markdown",
   "metadata": {},
   "source": [
    "# ***Crecimiento de coral***"
   ]
  },
  {
   "cell_type": "markdown",
   "metadata": {},
   "source": [
    "## López Ponce Brenda Dafne\n",
    "### GitHub DafneLopez27\n",
    "## Delgado Varela Merari \n",
    "### GitHub: MerariDelgado"
   ]
  },
  {
   "cell_type": "markdown",
   "metadata": {},
   "source": [
    "Consideremos el siguiente sistema de ecuaciones diferenciales\n",
    "\n",
    "\\begin{align*}\n",
    " \\dfrac{dm}{dt} &= amc-\\dfrac{gm}{m+T} + ymT\\\\\n",
    " \\dfrac{dc}{dt} &= rcT-dc-amc \\\\\n",
    " \\end{align*}\n",
    " \n",
    " En este sistema de ecuacines contamos con una restricción de espacio\n",
    " **$$T+c+m=1$$**\n",
    " en donde si despejamos T podremos tener solo dos variables.\n",
    " **$$T = 1-m-c$$**"
   ]
  },
  {
   "cell_type": "markdown",
   "metadata": {},
   "source": [
    "amc = Factor de crecimiento del micro-alga respecto a los corales.\n",
    "\n",
    "gm/m+T = decrecimiento del micro-alga respecto a la alimentación de peces.\n",
    "\n",
    "γmT = Recubrimiento de la población de tipo césped.\n",
    "\n",
    "rTc = Factor de crecimiento del coral respecto al otro tipo de alga (césped)\n",
    "\n",
    "-dc= Tasa de mortalidad de los corales.\n",
    "\n",
    "-amc= Factor de crecimiento del micro-alga respecto a los corales.\n",
    "\n"
   ]
  },
  {
   "cell_type": "markdown",
   "metadata": {},
   "source": [
    "Consideranto la restriccion ya antes mencionada se sustituye en el sistema de ecuación general, por lo tanto quedaría: \n",
    "\\begin{align*}\n",
    " \\dfrac{dm}{dt} &= amc-\\dfrac{gm}{1-c} + ym(1-m-c)\\\\\n",
    " \\dfrac{dc}{dt} &= rc(1-m-c)-dc-amc \\\\\n",
    " \\end{align*}"
   ]
  },
  {
   "cell_type": "markdown",
   "metadata": {},
   "source": [
    "**$$F(m,c) = [amc-\\dfrac{gm}{1-c} + ym(1-m-c),  rc(1-m-c)-dc-amc]$$**"
   ]
  },
  {
   "cell_type": "code",
   "execution_count": 1,
   "metadata": {},
   "outputs": [],
   "source": [
    "import numpy as np\n",
    "import matplotlib.pyplot as plt\n",
    "from scipy.integrate import *\n",
    "from mpl_toolkits.mplot3d import Axes3D\n",
    "from matplotlib import animation, rc"
   ]
  },
  {
   "cell_type": "code",
   "execution_count": 2,
   "metadata": {},
   "outputs": [],
   "source": [
    "def Crecimiento_coral (c,t,para):\n",
    "    \"\"\"Como queremos saber el crecimiento de coral, todo lo ponemos en funcion de c.\"\"\"\n",
    "    dm = para[0]*c[1]*c[0] - ((para[1]*c[1])/(1-c[0])) + ((para[2]*c[1])*(1-c[1]-c[0]))\n",
    "    dc = (para[3]*c[0])*(1-c[1]-c[0])-(para[4]*c[0]) - (para[0]*c[1]*c[0]) \n",
    "    return [dm, dc]"
   ]
  },
  {
   "cell_type": "code",
   "execution_count": 39,
   "metadata": {},
   "outputs": [],
   "source": [
    "t = np.linspace(0,15,10)"
   ]
  },
  {
   "cell_type": "code",
   "execution_count": 40,
   "metadata": {},
   "outputs": [
    {
     "data": {
      "text/plain": [
       "array([ 0.        ,  1.66666667,  3.33333333,  5.        ,  6.66666667,\n",
       "        8.33333333, 10.        , 11.66666667, 13.33333333, 15.        ])"
      ]
     },
     "execution_count": 40,
     "metadata": {},
     "output_type": "execute_result"
    }
   ],
   "source": [
    "t"
   ]
  },
  {
   "cell_type": "code",
   "execution_count": 41,
   "metadata": {},
   "outputs": [
    {
     "data": {
      "text/plain": [
       "[-0.0263671875, 0.0]"
      ]
     },
     "execution_count": 41,
     "metadata": {},
     "output_type": "execute_result"
    }
   ],
   "source": [
    "Crecimiento_coral([0.0, 0.5625],t, [0.7, 0.2, 0.35, 0.75, 0.8])"
   ]
  },
  {
   "cell_type": "code",
   "execution_count": 42,
   "metadata": {},
   "outputs": [
    {
     "name": "stderr",
     "output_type": "stream",
     "text": [
      "C:\\Users\\Dafne\\anaconda3\\lib\\site-packages\\scipy\\integrate\\odepack.py:247: ODEintWarning: Excess work done on this call (perhaps wrong Dfun type). Run with full_output = 1 to get quantitative information.\n",
      "  warnings.warn(warning_msg, ODEintWarning)\n"
     ]
    },
    {
     "data": {
      "text/plain": [
       "'Donde en sol los valores iniciales de c= 0 y m=0.562 y los argumentos tienen los siguientes valores a = 0.7, d =0.2, g = 0.35, r =0.75\\ny gamma = 0.8'"
      ]
     },
     "execution_count": 42,
     "metadata": {},
     "output_type": "execute_result"
    }
   ],
   "source": [
    "sol = odeint(Crecimiento_coral, [0.,0.5625], t, args=([0.7, 0.2, 0.35, 0.75, 0.8], ))\n",
    "\"\"\"Donde en sol los valores iniciales de c= 0 y m=0.562 y los argumentos tienen los siguientes valores a = 0.7, d =0.2, g = 0.35, r =0.75\n",
    "y gamma = 0.8\"\"\""
   ]
  },
  {
   "cell_type": "code",
   "execution_count": 43,
   "metadata": {},
   "outputs": [
    {
     "data": {
      "text/plain": [
       "array([ 0.00000000e+00, -5.23241921e-02, -1.60443420e-01, -6.38201229e-01,\n",
       "       -7.07153123e+06,  1.19945455e+02,  1.30090909e+02,  1.40236364e+02,\n",
       "        1.50381818e+02,  1.60527273e+02])"
      ]
     },
     "execution_count": 43,
     "metadata": {},
     "output_type": "execute_result"
    }
   ],
   "source": [
    "sol[:,0]"
   ]
  },
  {
   "cell_type": "code",
   "execution_count": 44,
   "metadata": {},
   "outputs": [
    {
     "data": {
      "text/plain": [
       "array([5.62500000e-01, 5.97526702e-01, 7.51283600e-01, 1.47192398e+00,\n",
       "       7.07613742e+06, 2.43556364e+02, 2.43556364e+02, 2.43556364e+02,\n",
       "       4.58836364e+01, 2.43556364e+02])"
      ]
     },
     "execution_count": 44,
     "metadata": {},
     "output_type": "execute_result"
    }
   ],
   "source": [
    "sol[:,1]"
   ]
  },
  {
   "cell_type": "code",
   "execution_count": 67,
   "metadata": {},
   "outputs": [
    {
     "data": {
      "image/png": "[encoded data removed]",
      "text/plain": [
       "<Figure size 432x288 with 1 Axes>"
      ]
     },
     "metadata": {
      "needs_background": "light"
     },
     "output_type": "display_data"
    }
   ],
   "source": [
    "plt.plot(t, sol[:,0], sol[:,1])\n",
    "\n",
    "plt.ylabel(r'$c(t)$', fontsize = 13, rotation = 0)\n",
    "plt.xlabel(r'$t$', fontsize = 13, rotation = 0)\n",
    "plt.grid()"
   ]
  },
  {
   "cell_type": "code",
   "execution_count": 48,
   "metadata": {},
   "outputs": [
    {
     "data": {
      "text/plain": [
       "[-0.221405136, 0.0]"
      ]
     },
     "execution_count": 48,
     "metadata": {},
     "output_type": "execute_result"
    }
   ],
   "source": [
    "Crecimiento_coral([0.0, 0.9444],t, [0.24, 0.24, 0.1, 1.2, 1.8])\n"
   ]
  },
  {
   "cell_type": "code",
   "execution_count": 49,
   "metadata": {},
   "outputs": [
    {
     "name": "stderr",
     "output_type": "stream",
     "text": [
      "C:\\Users\\Dafne\\anaconda3\\lib\\site-packages\\scipy\\integrate\\odepack.py:247: ODEintWarning: Excess work done on this call (perhaps wrong Dfun type). Run with full_output = 1 to get quantitative information.\n",
      "  warnings.warn(warning_msg, ODEintWarning)\n"
     ]
    },
    {
     "data": {
      "text/plain": [
       "'Donde en sol1 los valores iniciales de c= 0 y m=0.9444 y los argumentos tienen los siguientes valores a = 0.24, d =0.24, g = 0.1, r =1.2\\ny gamma = 1.8'"
      ]
     },
     "execution_count": 49,
     "metadata": {},
     "output_type": "execute_result"
    }
   ],
   "source": [
    "sol1 = odeint(Crecimiento_coral, [0.0, 0.9444], t, args=([0.24, 0.24, 0.1, 1.2, 1.8], ))\n",
    "\"\"\"Donde en sol1 los valores iniciales de c= 0 y m=0.9444 y los argumentos tienen los siguientes valores a = 0.24, d =0.24, g = 0.1, r =1.2\n",
    "y gamma = 1.8\"\"\""
   ]
  },
  {
   "cell_type": "code",
   "execution_count": 50,
   "metadata": {},
   "outputs": [
    {
     "data": {
      "text/plain": [
       "array([ 0.00000000e+00, -4.83798373e-01, -1.10602600e+09,  1.30090909e+02,\n",
       "        1.50381818e+02,  1.70672727e+02,  1.90963636e+02,  2.11254545e+02,\n",
       "        2.31545455e+02,  2.51836364e+02])"
      ]
     },
     "execution_count": 50,
     "metadata": {},
     "output_type": "execute_result"
    }
   ],
   "source": [
    "sol1[:,0]"
   ]
  },
  {
   "cell_type": "code",
   "execution_count": 51,
   "metadata": {},
   "outputs": [
    {
     "data": {
      "text/plain": [
       "array([9.44400000e-01, 1.67569890e+00, 2.72752711e+09, 1.44687842e+02,\n",
       "       2.43556364e+02, 1.44691224e+02, 1.44691224e+02, 1.44691224e+02,\n",
       "       1.44688462e+02, 1.44691224e+02])"
      ]
     },
     "execution_count": 51,
     "metadata": {},
     "output_type": "execute_result"
    }
   ],
   "source": [
    "sol1[:,1]"
   ]
  },
  {
   "cell_type": "code",
   "execution_count": 66,
   "metadata": {},
   "outputs": [
    {
     "data": {
      "image/png": "[encoded data removed]",
      "text/plain": [
       "<Figure size 432x288 with 1 Axes>"
      ]
     },
     "metadata": {
      "needs_background": "light"
     },
     "output_type": "display_data"
    }
   ],
   "source": [
    "plt.plot(t, sol1[:,0], sol1[:,1])\n",
    "plt.ylabel(r'$c(t)$', fontsize = 13, rotation = 0)\n",
    "plt.xlabel(r'$t$', fontsize = 13, rotation = 0)\n",
    "plt.grid()"
   ]
  },
  {
   "cell_type": "code",
   "execution_count": 53,
   "metadata": {},
   "outputs": [
    {
     "data": {
      "text/plain": [
       "[0.024999999999999994, 0.0]"
      ]
     },
     "execution_count": 53,
     "metadata": {},
     "output_type": "execute_result"
    }
   ],
   "source": [
    "Crecimiento_coral([0.0, 0.5],t, [0.7, 0.2, 0.5, 1.2, 1])"
   ]
  },
  {
   "cell_type": "code",
   "execution_count": 54,
   "metadata": {},
   "outputs": [
    {
     "data": {
      "text/plain": [
       "'Donde en sol2 los valores iniciales de c= 0 y m=0.5 y los argumentos tienen los siguientes valores a = 0.7, d =0.2, g = 0.5, r =1.2\\ny gamma = 1'"
      ]
     },
     "execution_count": 54,
     "metadata": {},
     "output_type": "execute_result"
    }
   ],
   "source": [
    "sol2 = odeint(Crecimiento_coral, [0.0, 0.5], t, args=([0.7, 0.2, 0.5, 1.2, 1], ))\n",
    "\"\"\"Donde en sol2 los valores iniciales de c= 0 y m=0.5 y los argumentos tienen los siguientes valores a = 0.7, d =0.2, g = 0.5, r =1.2\n",
    "y gamma = 1\"\"\""
   ]
  },
  {
   "cell_type": "code",
   "execution_count": 55,
   "metadata": {},
   "outputs": [
    {
     "data": {
      "text/plain": [
       "array([0.        , 0.0444331 , 0.10287784, 0.17379333, 0.2334264 ,\n",
       "       0.26116313, 0.25976693, 0.24305584, 0.22214903, 0.20282538])"
      ]
     },
     "execution_count": 55,
     "metadata": {},
     "output_type": "execute_result"
    }
   ],
   "source": [
    "sol2[:,0]"
   ]
  },
  {
   "cell_type": "code",
   "execution_count": 56,
   "metadata": {},
   "outputs": [
    {
     "data": {
      "text/plain": [
       "array([ 0.5       ,  0.47276418,  0.38770674,  0.25555475,  0.11999809,\n",
       "        0.02479141, -0.02324756, -0.03979465, -0.04040181, -0.03442491])"
      ]
     },
     "execution_count": 56,
     "metadata": {},
     "output_type": "execute_result"
    }
   ],
   "source": [
    "sol2[:,1]"
   ]
  },
  {
   "cell_type": "code",
   "execution_count": 65,
   "metadata": {},
   "outputs": [
    {
     "data": {
      "image/png": "[encoded data removed]",
      "text/plain": [
       "<Figure size 432x288 with 1 Axes>"
      ]
     },
     "metadata": {
      "needs_background": "light"
     },
     "output_type": "display_data"
    }
   ],
   "source": [
    "plt.plot(t, sol2[:,0], sol2[:,1])\n",
    "plt.ylabel(r'$c(t)$', fontsize = 13, rotation = 0)\n",
    "plt.xlabel(r'$t$', fontsize = 13, rotation = 0)\n",
    "plt.grid()"
   ]
  },
  {
   "cell_type": "code",
   "execution_count": 64,
   "metadata": {},
   "outputs": [
    {
     "data": {
      "image/png": "[encoded data removed]",
      "text/plain": [
       "<Figure size 432x288 with 1 Axes>"
      ]
     },
     "metadata": {
      "needs_background": "light"
     },
     "output_type": "display_data"
    }
   ],
   "source": [
    "\"\"\"Aquí juntamos las tres graficas anteriores para conocer su comportamiento.\"\"\"\n",
    "plt.plot(t, sol[:,0], sol[:,1], label= 'Crecimiento')\n",
    "plt.plot(t, sol1[:,0], sol1[:,1], label= 'Crecimiento')\n",
    "plt.plot(t, sol2[:,0], sol2[:,1], label= 'Crecimiento')\n",
    "plt.ylabel(r'$c(t)$', fontsize = 13, rotation = 0)\n",
    "plt.xlabel(r'$t$', fontsize = 13, rotation = 0)\n",
    "plt.grid()\n"
   ]
  },
  {
   "cell_type": "code",
   "execution_count": null,
   "metadata": {},
   "outputs": [],
   "source": []
  }
 ],
 "metadata": {
  "kernelspec": {
   "display_name": "Python 3",
   "language": "python",
   "name": "python3"
  },
  "language_info": {
   "codemirror_mode": {
    "name": "ipython",
    "version": 3
   },
   "file_extension": ".py",
   "mimetype": "text/x-python",
   "name": "python",
   "nbconvert_exporter": "python",
   "pygments_lexer": "ipython3",
   "version": "3.8.3"
  }
 },
 "nbformat": 4,
 "nbformat_minor": 4
}
